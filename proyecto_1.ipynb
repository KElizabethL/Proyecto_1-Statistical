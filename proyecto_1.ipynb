{
 "cells": [
  {
   "cell_type": "markdown",
   "metadata": {},
   "source": [
    "## Proyecto # 1\n",
    "Karin Elizabeth López Padilla \n",
    "\n",
    "Jose Andres Marquez Morataya"
   ]
  },
  {
   "cell_type": "markdown",
   "metadata": {},
   "source": [
    "1. Crear un entorno de anaconda con los paquetes que considere necesarios."
   ]
  },
  {
   "cell_type": "code",
   "execution_count": 9,
   "metadata": {},
   "outputs": [],
   "source": [
    "import numpy as np\n",
    "import pandas as pd\n",
    "import seaborn as sb\n",
    "from matplotlib import pyplot as plt\n",
    "from sklearn.model_selection import cross_val_score, train_test_split\n",
    "from sklearn.metrics import accuracy_score, confusion_matrix, classification_report\n",
    "from sklearn.preprocessing import LabelEncoder, StandardScaler\n"
   ]
  },
  {
   "cell_type": "code",
   "execution_count": 10,
   "metadata": {},
   "outputs": [],
   "source": [
    "df = np.load(\"proyecto_training_data.npy\")"
   ]
  },
  {
   "cell_type": "markdown",
   "metadata": {},
   "source": [
    "2. Usando sclicing con NumPy separar los datos en 2 datasets: entrenamiento(80 %) y validación y pruebas(20 %)"
   ]
  },
  {
   "cell_type": "code",
   "execution_count": 11,
   "metadata": {},
   "outputs": [],
   "source": [
    "rango80 = np.random.choice(range(df.shape[0]), int(df.shape[0]*0.8))\n",
    "rango20 = np.setdiff1d(range(df.shape[0]),rango80)\n",
    "df_training = df[rango80]\n",
    "df_test= df[rango20]"
   ]
  },
  {
   "cell_type": "code",
   "execution_count": 12,
   "metadata": {},
   "outputs": [],
   "source": [
    "colums = ['SalePrice','OverallQual','1stFlrSF','TotRmsAbvGrd','YearBuilt','LotFrontage']"
   ]
  },
  {
   "cell_type": "markdown",
   "metadata": {},
   "source": [
    "Análisis exploratorio de datos: Para cada variable en el dataset calcular((usando numpy o pandas):\n",
    "\n",
    "media\n",
    "\n",
    "valor máximo\n",
    "\n",
    "valor mínimo\n",
    "\n",
    "rango(peak to peak, no el rango del tensor que por ser vector sabemos que es 1)\n",
    "\n",
    "desviación estándar."
   ]
  },
  {
   "cell_type": "markdown",
   "metadata": {},
   "source": [
    "SalePrice"
   ]
  },
  {
   "cell_type": "code",
   "execution_count": 16,
   "metadata": {},
   "outputs": [
    {
     "name": "stdout",
     "output_type": "stream",
     "text": [
      "Media de Sales Price 180921.19589041095\n",
      "Valor Máximo de Sales Price 755000.0\n",
      "Valor Minimo de Sales Price 34900.0\n",
      "desviacion estandar de Sales Price 79415.29188606751\n"
     ]
    }
   ],
   "source": [
    "print(\"Media de SalePrice\", np.mean (df[:,0]))\n",
    "\n",
    "\n",
    "print(\"Valor Máximo de SalePrice\",np.max(df[:,0]))\n",
    "\n",
    "\n",
    "print(\"Valor Minimo de SalePrice\", np.min(df[:,0]))\n",
    "    \n",
    "print(\"desviacion estandar de SalePrice\", np.std(df[:,0]))\n"
   ]
  },
  {
   "cell_type": "markdown",
   "metadata": {},
   "source": [
    "OverallQual"
   ]
  },
  {
   "cell_type": "code",
   "execution_count": 17,
   "metadata": {},
   "outputs": [
    {
     "name": "stdout",
     "output_type": "stream",
     "text": [
      "Media de OverallQual 6.0993150684931505\n",
      "Valor Máximo de OverallQual 10.0\n",
      "Valor Minimo de OverallQual 1.0\n",
      "desviacion estandar de OverallQual 1.3825228366585953\n"
     ]
    }
   ],
   "source": [
    "print(\"Media de OverallQual\", np.mean (df[:,1]))\n",
    "\n",
    "\n",
    "print(\"Valor Máximo de OverallQual\",np.max(df[:,1]))\n",
    "\n",
    "\n",
    "print(\"Valor Minimo de OverallQual\", np.min(df[:,1]))\n",
    "    \n",
    "print(\"desviacion estandar de OverallQual\", np.std(df[:,1]))"
   ]
  },
  {
   "cell_type": "markdown",
   "metadata": {},
   "source": [
    "First Floor square feet"
   ]
  },
  {
   "cell_type": "code",
   "execution_count": 19,
   "metadata": {},
   "outputs": [
    {
     "name": "stdout",
     "output_type": "stream",
     "text": [
      "Media de 1stFlrSF: 1162.626712328767\n",
      "Valor Máximo de 1stFlrSF: 4692.0\n",
      "Valor Minimo de 1stFlrSF: 334.0\n",
      "desviacion estandar de 1stFlrSF: 386.45532230228963\n"
     ]
    }
   ],
   "source": [
    "print(\"Media de 1stFlrSF:\", np.mean (df[:,2]))\n",
    "\n",
    "\n",
    "print(\"Valor Máximo de 1stFlrSF:\",np.max(df[:,2]))\n",
    "\n",
    "\n",
    "print(\"Valor Minimo de 1stFlrSF:\", np.min(df[:,2]))\n",
    "    \n",
    "print(\"desviacion estandar de 1stFlrSF:\", np.std(df[:,2]))"
   ]
  },
  {
   "cell_type": "markdown",
   "metadata": {},
   "source": [
    "Total rooms above grade"
   ]
  },
  {
   "cell_type": "code",
   "execution_count": 20,
   "metadata": {},
   "outputs": [
    {
     "name": "stdout",
     "output_type": "stream",
     "text": [
      "Media de TotRmsAbvGrd: 6.517808219178082\n",
      "Valor Máximo de TotRmsAbvGrd: 14.0\n",
      "Valor Minimo de TotRmsAbvGrd: 2.0\n",
      "desviacion estandar de TotRmsAbvGrd: 1.624836553698191\n"
     ]
    }
   ],
   "source": [
    "print(\"Media de TotRmsAbvGrd:\", np.mean (df[:,3]))\n",
    "\n",
    "\n",
    "print(\"Valor Máximo de TotRmsAbvGrd:\",np.max(df[:,3]))\n",
    "\n",
    "\n",
    "print(\"Valor Minimo de TotRmsAbvGrd:\", np.min(df[:,3]))\n",
    "    \n",
    "print(\"desviacion estandar de TotRmsAbvGrd:\", np.std(df[:,3]))"
   ]
  },
  {
   "cell_type": "markdown",
   "metadata": {},
   "source": [
    "YearBuilt"
   ]
  },
  {
   "cell_type": "code",
   "execution_count": 21,
   "metadata": {},
   "outputs": [
    {
     "name": "stdout",
     "output_type": "stream",
     "text": [
      "Media de YearBuilt: 1971.267808219178\n",
      "Valor Máximo de YearBuilt: 2010.0\n",
      "Valor Minimo de YearBuilt: 1872.0\n",
      "desviacion estandar de YearBuilt: 30.192558810489448\n"
     ]
    }
   ],
   "source": [
    "print(\"Media de YearBuilt:\", np.mean (df[:,4]))\n",
    "\n",
    "\n",
    "print(\"Valor Máximo de YearBuilt:\",np.max(df[:,4]))\n",
    "\n",
    "\n",
    "print(\"Valor Minimo de YearBuilt:\", np.min(df[:,4]))\n",
    "    \n",
    "print(\"desviacion estandar de YearBuilt:\", np.std(df[:,4]))"
   ]
  },
  {
   "cell_type": "markdown",
   "metadata": {},
   "source": [
    "LotFrontage"
   ]
  },
  {
   "cell_type": "code",
   "execution_count": 22,
   "metadata": {},
   "outputs": [
    {
     "name": "stdout",
     "output_type": "stream",
     "text": [
      "Media de LotFrontage: nan\n",
      "Valor Máximo de LotFrontage: nan\n",
      "Valor Minimo de LotFrontage: nan\n",
      "desviacion estandar de LotFrontage: nan\n"
     ]
    }
   ],
   "source": [
    "print(\"Media de LotFrontage:\", np.mean (df[:,5]))\n",
    "\n",
    "\n",
    "print(\"Valor Máximo de LotFrontage:\",np.max(df[:,5]))\n",
    "\n",
    "\n",
    "print(\"Valor Minimo de LotFrontage:\", np.min(df[:,5]))\n",
    "    \n",
    "print(\"desviacion estandar de LotFrontage:\", np.std(df[:,5]))"
   ]
  },
  {
   "cell_type": "markdown",
   "metadata": {},
   "source": [
    "4. Para cada variable en el dataset usar seaborn para graficar un histograma de la variable.\n"
   ]
  },
  {
   "cell_type": "markdown",
   "metadata": {},
   "source": [
    "Saleprice"
   ]
  },
  {
   "cell_type": "code",
   "execution_count": 25,
   "metadata": {},
   "outputs": [
    {
     "name": "stderr",
     "output_type": "stream",
     "text": [
      "c:\\Users\\Klopez\\anaconda3\\lib\\site-packages\\seaborn\\distributions.py:2619: FutureWarning: `distplot` is a deprecated function and will be removed in a future version. Please adapt your code to use either `displot` (a figure-level function with similar flexibility) or `histplot` (an axes-level function for histograms).\n",
      "  warnings.warn(msg, FutureWarning)\n"
     ]
    },
    {
     "data": {
      "text/plain": [
       "<AxesSubplot:xlabel='SalePrice', ylabel='Density'>"
      ]
     },
     "execution_count": 25,
     "metadata": {},
     "output_type": "execute_result"
    },
    {
     "data": {
      "image/png": "[encoded data removed]",
      "text/plain": [
       "<Figure size 432x288 with 1 Axes>"
      ]
     },
     "metadata": {
      "needs_background": "light"
     },
     "output_type": "display_data"
    }
   ],
   "source": [
    "sb.distplot(df[:,0][~np.isnan(df[:,0])],axlabel=colums[0])"
   ]
  },
  {
   "cell_type": "markdown",
   "metadata": {},
   "source": [
    "OverallQual"
   ]
  },
  {
   "cell_type": "code",
   "execution_count": 26,
   "metadata": {},
   "outputs": [
    {
     "name": "stderr",
     "output_type": "stream",
     "text": [
      "c:\\Users\\Klopez\\anaconda3\\lib\\site-packages\\seaborn\\distributions.py:2619: FutureWarning: `distplot` is a deprecated function and will be removed in a future version. Please adapt your code to use either `displot` (a figure-level function with similar flexibility) or `histplot` (an axes-level function for histograms).\n",
      "  warnings.warn(msg, FutureWarning)\n"
     ]
    },
    {
     "data": {
      "text/plain": [
       "<AxesSubplot:xlabel='OverallQual', ylabel='Density'>"
      ]
     },
     "execution_count": 26,
     "metadata": {},
     "output_type": "execute_result"
    },
    {
     "data": {
      "image/png": "[encoded data removed]",
      "text/plain": [
       "<Figure size 432x288 with 1 Axes>"
      ]
     },
     "metadata": {
      "needs_background": "light"
     },
     "output_type": "display_data"
    }
   ],
   "source": [
    "sb.distplot(df[:,1][~np.isnan(df[:,1])],axlabel=colums[1])"
   ]
  },
  {
   "cell_type": "markdown",
   "metadata": {},
   "source": [
    "First Floor square feet"
   ]
  },
  {
   "cell_type": "code",
   "execution_count": 27,
   "metadata": {},
   "outputs": [
    {
     "name": "stderr",
     "output_type": "stream",
     "text": [
      "c:\\Users\\Klopez\\anaconda3\\lib\\site-packages\\seaborn\\distributions.py:2619: FutureWarning: `distplot` is a deprecated function and will be removed in a future version. Please adapt your code to use either `displot` (a figure-level function with similar flexibility) or `histplot` (an axes-level function for histograms).\n",
      "  warnings.warn(msg, FutureWarning)\n"
     ]
    },
    {
     "data": {
      "text/plain": [
       "<AxesSubplot:xlabel='1stFlrSF', ylabel='Density'>"
      ]
     },
     "execution_count": 27,
     "metadata": {},
     "output_type": "execute_result"
    },
    {
     "data": {
      "image/png": "[encoded data removed]",
      "text/plain": [
       "<Figure size 432x288 with 1 Axes>"
      ]
     },
     "metadata": {
      "needs_background": "light"
     },
     "output_type": "display_data"
    }
   ],
   "source": [
    "sb.distplot(df[:,2][~np.isnan(df[:,2])],axlabel=colums[2])"
   ]
  },
  {
   "cell_type": "markdown",
   "metadata": {},
   "source": [
    "Total rooms above grade"
   ]
  },
  {
   "cell_type": "code",
   "execution_count": 28,
   "metadata": {},
   "outputs": [
    {
     "name": "stderr",
     "output_type": "stream",
     "text": [
      "c:\\Users\\Klopez\\anaconda3\\lib\\site-packages\\seaborn\\distributions.py:2619: FutureWarning: `distplot` is a deprecated function and will be removed in a future version. Please adapt your code to use either `displot` (a figure-level function with similar flexibility) or `histplot` (an axes-level function for histograms).\n",
      "  warnings.warn(msg, FutureWarning)\n"
     ]
    },
    {
     "data": {
      "text/plain": [
       "<AxesSubplot:xlabel='TotRmsAbvGrd', ylabel='Density'>"
      ]
     },
     "execution_count": 28,
     "metadata": {},
     "output_type": "execute_result"
    },
    {
     "data": {
      "image/png": "[encoded data removed]",
      "text/plain": [
       "<Figure size 432x288 with 1 Axes>"
      ]
     },
     "metadata": {
      "needs_background": "light"
     },
     "output_type": "display_data"
    }
   ],
   "source": [
    "sb.distplot(df[:,3][~np.isnan(df[:,3])],axlabel=colums[3])"
   ]
  },
  {
   "cell_type": "markdown",
   "metadata": {},
   "source": [
    "YearBuilt"
   ]
  },
  {
   "cell_type": "code",
   "execution_count": 29,
   "metadata": {},
   "outputs": [
    {
     "name": "stderr",
     "output_type": "stream",
     "text": [
      "c:\\Users\\Klopez\\anaconda3\\lib\\site-packages\\seaborn\\distributions.py:2619: FutureWarning: `distplot` is a deprecated function and will be removed in a future version. Please adapt your code to use either `displot` (a figure-level function with similar flexibility) or `histplot` (an axes-level function for histograms).\n",
      "  warnings.warn(msg, FutureWarning)\n"
     ]
    },
    {
     "data": {
      "text/plain": [
       "<AxesSubplot:xlabel='YearBuilt', ylabel='Density'>"
      ]
     },
     "execution_count": 29,
     "metadata": {},
     "output_type": "execute_result"
    },
    {
     "data": {
      "image/png": "[encoded data removed]",
      "text/plain": [
       "<Figure size 432x288 with 1 Axes>"
      ]
     },
     "metadata": {
      "needs_background": "light"
     },
     "output_type": "display_data"
    }
   ],
   "source": [
    "sb.distplot(df[:,4][~np.isnan(df[:,4])],axlabel=colums[4])"
   ]
  },
  {
   "cell_type": "markdown",
   "metadata": {},
   "source": [
    "LotFrontage"
   ]
  },
  {
   "cell_type": "code",
   "execution_count": 30,
   "metadata": {},
   "outputs": [
    {
     "name": "stderr",
     "output_type": "stream",
     "text": [
      "c:\\Users\\Klopez\\anaconda3\\lib\\site-packages\\seaborn\\distributions.py:2619: FutureWarning: `distplot` is a deprecated function and will be removed in a future version. Please adapt your code to use either `displot` (a figure-level function with similar flexibility) or `histplot` (an axes-level function for histograms).\n",
      "  warnings.warn(msg, FutureWarning)\n"
     ]
    },
    {
     "data": {
      "text/plain": [
       "<AxesSubplot:xlabel='LotFrontage', ylabel='Density'>"
      ]
     },
     "execution_count": 30,
     "metadata": {},
     "output_type": "execute_result"
    },
    {
     "data": {
      "image/png": "[encoded data removed]",
      "text/plain": [
       "<Figure size 432x288 with 1 Axes>"
      ]
     },
     "metadata": {
      "needs_background": "light"
     },
     "output_type": "display_data"
    }
   ],
   "source": [
    "sb.distplot(df[:,5][~np.isnan(df[:,5])],axlabel=colums[5])"
   ]
  }
 ],
 "metadata": {
  "interpreter": {
   "hash": "88ad791f390d225aed8d82ff52b5a679441833255f69a1dff94ec132bfa7f31e"
  },
  "kernelspec": {
   "display_name": "Python 3.9.7 ('base')",
   "language": "python",
   "name": "python3"
  },
  "language_info": {
   "codemirror_mode": {
    "name": "ipython",
    "version": 3
   },
   "file_extension": ".py",
   "mimetype": "text/x-python",
   "name": "python",
   "nbconvert_exporter": "python",
   "pygments_lexer": "ipython3",
   "version": "3.9.7"
  },
  "orig_nbformat": 4
 },
 "nbformat": 4,
 "nbformat_minor": 2
}
